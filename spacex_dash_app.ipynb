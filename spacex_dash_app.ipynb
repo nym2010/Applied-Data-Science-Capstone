{
 "cells": [
  {
   "cell_type": "code",
   "execution_count": 1,
   "metadata": {},
   "outputs": [],
   "source": [
    "# Import required libraries\n",
    "import pandas as pd\n",
    "import dash\n",
    "from dash import html\n",
    "from dash import dcc\n",
    "from dash.dependencies import Input, Output\n",
    "import plotly.express as px"
   ]
  },
  {
   "cell_type": "code",
   "execution_count": 2,
   "metadata": {},
   "outputs": [],
   "source": [
    "# Read the airline data into pandas dataframe\n",
    "spacex_df = pd.read_csv(\"spacex_launch_dash.csv\")\n",
    "max_payload = spacex_df['Payload Mass (kg)'].max()\n",
    "min_payload = spacex_df['Payload Mass (kg)'].min()\n"
   ]
  },
  {
   "cell_type": "code",
   "execution_count": 9,
   "metadata": {},
   "outputs": [],
   "source": [
    "# Create a dash application\n",
    "app = dash.Dash(__name__)"
   ]
  },
  {
   "cell_type": "code",
   "execution_count": 10,
   "metadata": {},
   "outputs": [],
   "source": [
    "# Create an app layout\n",
    "app.layout = html.Div(children=[html.H1('SpaceX Launch Records Dashboard',\n",
    "                                        style={'textAlign': 'center', 'color': '#503D36',\n",
    "                                               'font-size': 40}),\n",
    "                                # TASK 1: Add a dropdown list to enable Launch Site selection\n",
    "                                # The default select value is for ALL sites\n",
    "                                # dcc.Dropdown(id='site-dropdown',...)\n",
    "                                  dcc.Dropdown(id='site-dropdown',\n",
    "                                               options=[\n",
    "                                                   {'label': 'All Sites', 'value': 'ALL'},\n",
    "                                                   {'label': 'CCAFS LC-40', 'value': 'CCAFS LC-40'},\n",
    "                                                   {'label': 'VAFB SLC-4E', 'value': 'VAFB SLC-4E'},\n",
    "                                                   {'label': 'KSC LC-39A', 'value': 'KSC LC-39A'},\n",
    "                                                   {'label': 'CCAFS SLC-40', 'value': 'CCAFS SLC-40'},\n",
    "                                                   ],\n",
    "                                                   value='ALL',\n",
    "                                                   placeholder=\"Select a Launch Site here\",\n",
    "                                                   searchable=True\n",
    "                                                   ),\n",
    "                                html.Br(),\n",
    "\n",
    "                                # TASK 2: Add a pie chart to show the total successful launches count for all sites\n",
    "                                # If a specific launch site was selected, show the Success vs. Failed counts for the site\n",
    "                                html.Div(dcc.Graph(id='success-pie-chart')),\n",
    "                                html.Br(),\n",
    "\n",
    "                                html.P(\"Payload range (Kg):\"),\n",
    "                                # TASK 3: Add a slider to select payload range\n",
    "                                #dcc.RangeSlider(id='payload-slider',...)\n",
    "                                dcc.RangeSlider(id='payload-slider',\n",
    "                                                min=0, max=10000, step=1000,\n",
    "                                                marks={0: '0',\n",
    "                                                       100: '100'},\n",
    "                                                value=[min_payload, max_payload]),\n",
    "\n",
    "                                # TASK 4: Add a scatter chart to show the correlation between payload and launch success\n",
    "                                html.Div(dcc.Graph(id='success-payload-scatter-chart')),\n",
    "                                ])\n",
    "\n",
    "# TASK 2:\n",
    "# Add a callback function for `site-dropdown` as input, `success-pie-chart` as output\n",
    "# Function decorator to specify function input and output\n",
    "@app.callback(Output(component_id='success-pie-chart', component_property='figure'),\n",
    "              Input(component_id='site-dropdown', component_property='value'))\n",
    "def get_pie_chart(entered_site):\n",
    "    filtered_df = spacex_df\n",
    "    if entered_site == 'ALL':\n",
    "        fig = px.pie(filtered_df, names='Launch Site', values='class',title='Total Success Launches by Sites')\n",
    "        #fig = px.pie(filtered_df, values='class', \n",
    "        #names='pie chart names', \n",
    "        #title='title')\n",
    "        return fig\n",
    "    else:\n",
    "       filtered_df= spacex_df.loc[spacex_df['Launch Site']==entered_site]\n",
    "       fig = px.pie(filtered_df, names='class',title='Total Success Launches For Specific Sites')\n",
    "       #fig = px.pie(filtered_df, values='class', \n",
    "#      #names='pie chart names', \n",
    "#      #title='title')\n",
    "       return fig\n",
    "\n",
    "        # return the outcomes piechart for a selected site\n",
    "# TASK 4:\n",
    "# Add a callback function for `site-dropdown` and `payload-slider` as inputs, `success-payload-scatter-chart` as output\n",
    "@app.callback(Output(component_id='success-payload-scatter-chart', component_property='figure'),\n",
    "              [Input(component_id='site-dropdown', component_property='value'),\n",
    "               Input(component_id='payload-slider', component_property='value')])\n",
    "def get_payload_scatter_chart(entered_site,payload_value):\n",
    "    filtered_df= spacex_df.loc[(spacex_df['Payload Mass (kg)']>=payload_value[0]) & (spacex_df['Payload Mass (kg)']<=payload_value[1])]\n",
    "    if entered_site == 'ALL':\n",
    "        fig = px.scatter(x=filtered_df['Payload Mass (kg)'], y=filtered_df['class'], color=filtered_df['Booster Version Category'], title='Correlation Between Payload and Success for All Sites')\n",
    "        #fig = px.pie(filtered_df, values='class', \n",
    "        #names='pie chart names', \n",
    "        #title='title')\n",
    "        return fig\n",
    "    else:\n",
    "       #filtered_df= spacex_df.loc[spacex_df['Launch Site']==entered_site]\n",
    "       filtered_df= spacex_df.loc[(spacex_df['Launch Site']==entered_site)& (spacex_df['Payload Mass (kg)']>=payload_value[0]) & (spacex_df['Payload Mass (kg)']<=payload_value[1])]\n",
    "       fig = px.scatter(x=filtered_df['Payload Mass (kg)'], y=filtered_df['class'], color=filtered_df['Booster Version Category'], title='Correlation Between Payload and Success for Specific Sites')\n",
    "       #fig = px.pie(filtered_df, values='class', \n",
    "#      #names='pie chart names', \n",
    "#      #title='title')\n",
    "       return fig"
   ]
  },
  {
   "cell_type": "code",
   "execution_count": 11,
   "metadata": {},
   "outputs": [
    {
     "data": {
      "text/html": [
       "\n",
       "        <iframe\n",
       "            width=\"100%\"\n",
       "            height=\"650\"\n",
       "            src=\"http://127.0.0.1:8050/\"\n",
       "            frameborder=\"0\"\n",
       "            allowfullscreen\n",
       "            \n",
       "        ></iframe>\n",
       "        "
      ],
      "text/plain": [
       "<IPython.lib.display.IFrame at 0x24a9ade2290>"
      ]
     },
     "metadata": {},
     "output_type": "display_data"
    }
   ],
   "source": [
    "# Run the app\n",
    "if __name__ == '__main__':\n",
    "    app.run_server()"
   ]
  }
 ],
 "metadata": {
  "kernelspec": {
   "display_name": "Python 3",
   "language": "python",
   "name": "python3"
  },
  "language_info": {
   "codemirror_mode": {
    "name": "ipython",
    "version": 3
   },
   "file_extension": ".py",
   "mimetype": "text/x-python",
   "name": "python",
   "nbconvert_exporter": "python",
   "pygments_lexer": "ipython3",
   "version": "3.11.9"
  }
 },
 "nbformat": 4,
 "nbformat_minor": 2
}
